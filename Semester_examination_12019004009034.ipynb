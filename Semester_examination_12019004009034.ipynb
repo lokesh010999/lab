{
  "nbformat": 4,
  "nbformat_minor": 0,
  "metadata": {
    "colab": {
      "name": "Semester examination 12019004009034",
      "provenance": [],
      "authorship_tag": "ABX9TyNHr3sBFozizxv7H2Sju/0+",
      "include_colab_link": true
    },
    "kernelspec": {
      "name": "python3",
      "display_name": "Python 3"
    }
  },
  "cells": [
    {
      "cell_type": "markdown",
      "metadata": {
        "id": "view-in-github",
        "colab_type": "text"
      },
      "source": [
        "<a href=\"https://colab.research.google.com/github/lokesh010999/lab/blob/main/Semester_examination_12019004009034.ipynb\" target=\"_parent\"><img src=\"https://colab.research.google.com/assets/colab-badge.svg\" alt=\"Open In Colab\"/></a>"
      ]
    },
    {
      "cell_type": "code",
      "metadata": {
        "colab": {
          "base_uri": "https://localhost:8080/"
        },
        "id": "width8YxG7j5",
        "outputId": "624bac8a-cff7-4dd2-e328-fbead055f257"
      },
      "source": [
        " \n",
        "def insertionSort(arr): \n",
        "  \n",
        "    for i in range(1, len(arr)): \n",
        "  \n",
        "        key = arr[i] \n",
        "        j = i-1\n",
        "        while j >=0 and key < arr[j] : \n",
        "                arr[j+1] = arr[j] \n",
        "                j -= 1\n",
        "        arr[j+1] = key \n",
        "  \n",
        "  \n",
        "arr = [15,22,83,62,58,99,1,42] \n",
        "insertionSort(arr) \n",
        "print (\"Sorted array is:\") \n",
        "for i in range(len(arr)): \n",
        "    print (\"%d\" %arr[i])"
      ],
      "execution_count": null,
      "outputs": [
        {
          "output_type": "stream",
          "text": [
            "Sorted array is:\n",
            "1\n",
            "15\n",
            "22\n",
            "42\n",
            "58\n",
            "62\n",
            "83\n",
            "99\n"
          ],
          "name": "stdout"
        }
      ]
    },
    {
      "cell_type": "code",
      "metadata": {
        "id": "NSgqBfQlYqzh"
      },
      "source": [
        ""
      ],
      "execution_count": null,
      "outputs": []
    },
    {
      "cell_type": "code",
      "metadata": {
        "id": "pI70ASwlav6Z"
      },
      "source": [
        ""
      ],
      "execution_count": null,
      "outputs": []
    },
    {
      "cell_type": "markdown",
      "metadata": {
        "id": "TfkY_4QSGQ5E"
      },
      "source": [
        ""
      ]
    },
    {
      "cell_type": "code",
      "metadata": {
        "colab": {
          "base_uri": "https://localhost:8080/"
        },
        "id": "4uqIjI6TJcaK",
        "outputId": "6e4ed273-8821-4675-e55a-cc3f82ecad52"
      },
      "source": [
        " \n",
        "class Person(object): \n",
        "        \n",
        "    def __init__(self, name): \n",
        "        self.name = name \n",
        "   \n",
        "    def getName(self): \n",
        "        return self.name \n",
        "   \n",
        "    def isEmployee(self): \n",
        "        return False\n",
        "    \n",
        "class Employee(Person): \n",
        "   \n",
        "    def isEmployee(self): \n",
        "        return True\n",
        " \n",
        "emp = Person(\"Rohit\")  \n",
        "print(emp.getName(), emp.isEmployee()) \n",
        "   \n",
        "emp = Employee(\"Rahul\")\n",
        "print(emp.getName(), emp.isEmployee())"
      ],
      "execution_count": null,
      "outputs": [
        {
          "output_type": "stream",
          "text": [
            "Rohit False\n",
            "Rahul True\n"
          ],
          "name": "stdout"
        }
      ]
    },
    {
      "cell_type": "code",
      "metadata": {
        "id": "CDt6-Y2mK9BN",
        "colab": {
          "base_uri": "https://localhost:8080/"
        },
        "outputId": "cc6e0323-3d30-4c3b-c553-9027d99b6a91"
      },
      "source": [
        " \n",
        "l, u, p, d = 0, 0, 0, 0\n",
        "s = \"R@m@_f0rtu9e$\"\n",
        "if (len(s) >= 8): \n",
        "    for i in s: \n",
        "        if (i.islower()): \n",
        "            l+=1             \n",
        "        if (i.isupper()): \n",
        "            u+=1             \n",
        "        if (i.isdigit()): \n",
        "            d+=1             \n",
        "        if(i=='@'or i=='$' or i=='_'): \n",
        "            p+=1           \n",
        "if (l>=1 and u>=1 and p>=1 and d>=1 and l+p+u+d==len(s)): \n",
        "    print(\"Valid Password\") \n",
        "else: \n",
        "    print(\"Invalid Password\")"
      ],
      "execution_count": null,
      "outputs": [
        {
          "output_type": "stream",
          "text": [
            "Valid Password\n"
          ],
          "name": "stdout"
        }
      ]
    }
  ]
}